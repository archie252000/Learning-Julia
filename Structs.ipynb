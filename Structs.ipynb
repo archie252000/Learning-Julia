{
 "cells": [
  {
   "cell_type": "code",
   "execution_count": 4,
   "metadata": {},
   "outputs": [
    {
     "data": {
      "text/plain": [
       "constPoint(5.0, 6.0)"
      ]
     },
     "metadata": {},
     "output_type": "display_data"
    }
   ],
   "source": [
    "# Immutable Structure\n",
    "struct constPoint\n",
    "    x::Float64\n",
    "    y::Float64\n",
    "end\n",
    "p1 = constPoint(5.0, 6.0)"
   ]
  },
  {
   "cell_type": "code",
   "execution_count": 5,
   "metadata": {},
   "outputs": [
    {
     "name": "stdout",
     "output_type": "stream",
     "text": [
      "varPoint(5.0, 6.0)\n",
      "varPoint(7.0, 6.0)\n"
     ]
    }
   ],
   "source": [
    "# Mmutable Structure\n",
    "mutable struct varPoint\n",
    "    x::Float64\n",
    "    y::Float64\n",
    "end\n",
    "p2 = varPoint(5.0, 6.0)\n",
    "println(p2)\n",
    "p2.x = 7.0\n",
    "println(p2)"
   ]
  },
  {
   "cell_type": "code",
   "execution_count": 2,
   "metadata": {},
   "outputs": [],
   "source": [
    "# custom constructor\n",
    "mutable struct conePoint\n",
    "    x::Float64\n",
    "    y::Float64\n",
    "    z::Float64\n",
    "    function conePoint(x, y)\n",
    "        new(x, y, (x^2 + y^2)^(1/2))\n",
    "    end\n",
    "end\n"
   ]
  },
  {
   "cell_type": "code",
   "execution_count": 3,
   "metadata": {},
   "outputs": [
    {
     "data": {
      "text/plain": [
       "conePoint(5.0, 6.0, 7.810249675906654)"
      ]
     },
     "metadata": {},
     "output_type": "display_data"
    }
   ],
   "source": [
    "p3 = conePoint(5, 6)\n"
   ]
  }
 ],
 "metadata": {
  "kernelspec": {
   "display_name": "Julia 1.7.2",
   "language": "julia",
   "name": "julia-1.7"
  },
  "language_info": {
   "file_extension": ".jl",
   "mimetype": "application/julia",
   "name": "julia",
   "version": "1.7.2"
  },
  "orig_nbformat": 4
 },
 "nbformat": 4,
 "nbformat_minor": 2
}
